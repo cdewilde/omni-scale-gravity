{
 "cells": [
  {
   "cell_type": "markdown",
   "id": "21f99ce5",
   "metadata": {},
   "source": [
    "## GPU vs CPU performance (pairwise acceleration)"
   ]
  },
  {
   "cell_type": "code",
   "execution_count": null,
   "id": "1dcc6a79",
   "metadata": {},
   "outputs": [],
   "source": [
    "import time\n",
    "import numpy as _np\n",
    "try:\n",
    "    import cupy as _cp\n",
    "    HAVE_CUPY = True\n",
    "except Exception:\n",
    "    HAVE_CUPY = False\n",
    "\n",
    "def bench_pairwise(N=800):\n",
    "    from importlib import reload\n",
    "    import nbody_adv as nb\n",
    "    # CPU (NumPy)\n",
    "    x_cpu = _np.random.RandomState(0).normal(0, 1, size=(N,3)).astype(float)\n",
    "    m_cpu = _np.ones(N, dtype=float)\n",
    "    t0 = time.perf_counter()\n",
    "    _ = nb.pairwise_accel(x_cpu, m_cpu, eps=1e-2)\n",
    "    t1 = time.perf_counter()\n",
    "    cpu_ms = (t1 - t0)*1e3\n",
    "    gpu_ms = None\n",
    "    if HAVE_CUPY:\n",
    "        import cupy as cp\n",
    "        x_gpu = cp.asarray(x_cpu); m_gpu = cp.asarray(m_cpu)\n",
    "        _ = nb.pairwise_accel(x_gpu, m_gpu, eps=1e-2)  # warmup\n",
    "        cp.cuda.Stream.null.synchronize()\n",
    "        t2 = time.perf_counter()\n",
    "        _ = nb.pairwise_accel(x_gpu, m_gpu, eps=1e-2)\n",
    "        cp.cuda.Stream.null.synchronize()\n",
    "        t3 = time.perf_counter()\n",
    "        gpu_ms = (t3 - t2)*1e3\n",
    "    return cpu_ms, gpu_ms\n",
    "\n",
    "cpu_ms, gpu_ms = bench_pairwise(N=800)\n",
    "cpu_ms, gpu_ms"
   ]
  },
  {
   "cell_type": "markdown",
   "id": "288da85a",
   "metadata": {},
   "source": [
    "### Barycenter drift (Scenario A)"
   ]
  },
  {
   "cell_type": "code",
   "execution_count": null,
   "id": "5e0eb976",
   "metadata": {},
   "outputs": [],
   "source": [
    "import numpy as np\n",
    "from importlib import reload; import nbody_adv as nb; reload(nb)\n",
    "# Re-run short binary\n",
    "x, v, m = nb.circular_binary_ic(1.0e22, 1.0e22, 1.0e7)\n",
    "snapB = nb.leapfrog(x, v, m, dt=0.25, steps=2000, eps=1e3, record_every=20)\n",
    "# Track barycenter\n",
    "R = []; \n",
    "for s in snapB:\n",
    "    Rc, Vc = nb.barycenter(s['x'], s['v'], m)\n",
    "    R.append(np.linalg.norm(Rc))\n",
    "float(max(R))"
   ]
  },
  {
   "cell_type": "markdown",
   "id": "75f276bd",
   "metadata": {},
   "source": [
    "## Scenario C — Plummer cluster (toy initializer)"
   ]
  },
  {
   "cell_type": "code",
   "execution_count": null,
   "id": "8a734be6",
   "metadata": {},
   "outputs": [],
   "source": [
    "from importlib import reload; import nbody_adv as nb; reload(nb)\n",
    "N=200; Mtot=2e25; a=5e8\n",
    "x, v, m = nb.plummer_sphere(N, Mtot, a, seed=7)\n",
    "out = nb.leapfrog(x, v, m, dt=5.0, steps=2000, eps=1e6, record_every=20)\n",
    "len(out)"
   ]
  },
  {
   "cell_type": "code",
   "execution_count": null,
   "id": "63ef8eb1",
   "metadata": {},
   "outputs": [],
   "source": [
    "import numpy as np, matplotlib.pyplot as plt\n",
    "X = np.array([s['x'] for s in out])\n",
    "plt.figure(figsize=(6,6))\n",
    "plt.plot(X[:, :, 0], X[:, :, 1], '.', markersize=1)\n",
    "plt.gca().set_aspect('equal','box'); plt.title('Plummer cluster (projection)')\n",
    "plt.show()"
   ]
  }
 ],
 "metadata": {},
 "nbformat": 4,
 "nbformat_minor": 5
}
